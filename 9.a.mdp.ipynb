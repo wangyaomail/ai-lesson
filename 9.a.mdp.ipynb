{
 "cells": [
  {
   "cell_type": "markdown",
   "source": [
    "mdp部分应含有15、16、17章内容：\n",
    "- 15：时域概率推理（世界是变化的，比如Wumpus沿一个规律移动）\n",
    "- 16：简单决策（效用基于每个行为）\n",
    "- 17：复杂决策（效用基于行为序列）"
   ],
   "metadata": {
    "collapsed": false
   }
  }
 ],
 "metadata": {
  "kernelspec": {
   "display_name": "Python 3",
   "language": "python",
   "name": "python3"
  },
  "language_info": {
   "codemirror_mode": {
    "name": "ipython",
    "version": 2
   },
   "file_extension": ".py",
   "mimetype": "text/x-python",
   "name": "python",
   "nbconvert_exporter": "python",
   "pygments_lexer": "ipython2",
   "version": "2.7.6"
  }
 },
 "nbformat": 4,
 "nbformat_minor": 0
}
