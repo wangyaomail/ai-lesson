{
 "cells": [
  {
   "cell_type": "raw",
   "source": [
    "联合概率"
   ],
   "metadata": {
    "collapsed": false
   }
  },
  {
   "cell_type": "code",
   "execution_count": 1,
   "outputs": [
    {
     "data": {
      "text/plain": "       p  cavity  toothache  catch\n0  0.108       1          1      1\n1  0.012       1          1      0\n2  0.016       1          0      1\n3  0.064       1          0      0\n4  0.072       0          1      1\n5  0.008       0          1      0\n6  0.144       0          0      1\n7  0.576       0          0      0",
      "text/html": "<div>\n<style scoped>\n    .dataframe tbody tr th:only-of-type {\n        vertical-align: middle;\n    }\n\n    .dataframe tbody tr th {\n        vertical-align: top;\n    }\n\n    .dataframe thead th {\n        text-align: right;\n    }\n</style>\n<table border=\"1\" class=\"dataframe\">\n  <thead>\n    <tr style=\"text-align: right;\">\n      <th></th>\n      <th>p</th>\n      <th>cavity</th>\n      <th>toothache</th>\n      <th>catch</th>\n    </tr>\n  </thead>\n  <tbody>\n    <tr>\n      <th>0</th>\n      <td>0.108</td>\n      <td>1</td>\n      <td>1</td>\n      <td>1</td>\n    </tr>\n    <tr>\n      <th>1</th>\n      <td>0.012</td>\n      <td>1</td>\n      <td>1</td>\n      <td>0</td>\n    </tr>\n    <tr>\n      <th>2</th>\n      <td>0.016</td>\n      <td>1</td>\n      <td>0</td>\n      <td>1</td>\n    </tr>\n    <tr>\n      <th>3</th>\n      <td>0.064</td>\n      <td>1</td>\n      <td>0</td>\n      <td>0</td>\n    </tr>\n    <tr>\n      <th>4</th>\n      <td>0.072</td>\n      <td>0</td>\n      <td>1</td>\n      <td>1</td>\n    </tr>\n    <tr>\n      <th>5</th>\n      <td>0.008</td>\n      <td>0</td>\n      <td>1</td>\n      <td>0</td>\n    </tr>\n    <tr>\n      <th>6</th>\n      <td>0.144</td>\n      <td>0</td>\n      <td>0</td>\n      <td>1</td>\n    </tr>\n    <tr>\n      <th>7</th>\n      <td>0.576</td>\n      <td>0</td>\n      <td>0</td>\n      <td>0</td>\n    </tr>\n  </tbody>\n</table>\n</div>"
     },
     "execution_count": 1,
     "metadata": {},
     "output_type": "execute_result"
    }
   ],
   "source": [
    "import random\n",
    "\n",
    "import numpy as np\n",
    "import pandas as pd\n",
    "import inspect\n",
    "import matplotlib.pyplot as plt\n",
    "import seaborn as sns\n",
    "toothache = pd.read_csv(\"data/toothache.csv\")\n",
    "toothache"
   ],
   "metadata": {
    "collapsed": false
   }
  },
  {
   "cell_type": "code",
   "execution_count": 4,
   "outputs": [
    {
     "name": "stdout",
     "output_type": "stream",
     "text": [
      "P(['cavity']|[('toothache', 1)])={\"p\":{\"0\":0.4,\"1\":0.6}}\n",
      "P(['cavity']|[('toothache', 0)])={\"p\":{\"0\":0.9,\"1\":0.1}}\n",
      "P(['catch']|[('toothache', 1)])={\"p\":{\"0\":0.1,\"1\":0.9}}\n",
      "P(['catch']|[('toothache', 0)])={\"p\":{\"0\":0.8,\"1\":0.2}}\n",
      "P(['cavity', 'catch']|[('toothache', 1)])={\"p\":{\"(0, 0)\":0.04,\"(0, 1)\":0.36,\"(1, 0)\":0.06,\"(1, 1)\":0.54}}\n",
      "P(['cavity', 'catch']|[('toothache', 0)])={\"p\":{\"(0, 0)\":0.72,\"(0, 1)\":0.18,\"(1, 0)\":0.08,\"(1, 1)\":0.02}}\n",
      "P(['catch']|[('toothache', 1), ('cavity', 1)])={\"p\":{\"0\":0.1,\"1\":0.9}}\n",
      "P(['catch']|[('toothache', 0), ('cavity', 1)])={\"p\":{\"0\":0.8,\"1\":0.2}}\n",
      "P(['catch']|[('toothache', 0), ('cavity', 0)])={\"p\":{\"0\":0.8,\"1\":0.2}}\n",
      "P(['cavity', 'toothache', 'cavity']|[])=0.12\n",
      "P(['cavity', 'toothache']|[])=0.28\n"
     ]
    },
    {
     "data": {
      "text/plain": "0.28"
     },
     "execution_count": 4,
     "metadata": {},
     "output_type": "execute_result"
    }
   ],
   "source": [
    "class Thing:\n",
    "    def __init__(self, name=''):\n",
    "        self.name = name\n",
    "    def __repr__(self):\n",
    "        return self.name\n",
    "\n",
    "class Toothache(Thing):\n",
    "    def __init__(self, file_path=\"data/toothache.csv\", name=''):\n",
    "        super().__init__(name)\n",
    "        self.table = pd.read_csv(file_path)\n",
    "    # 查询分布\n",
    "    def cal_p_cond(self, xs, conditions=[]):\n",
    "        result = self.table\n",
    "        for k, v in conditions:\n",
    "            result = result[result[k] == v]\n",
    "        result = result[['p'] + xs]\n",
    "        if len(result) > 0:\n",
    "            result = result.groupby(xs).sum()\n",
    "            result = result / result.sum()\n",
    "            print(\"P({}|{})={}\".format(xs, conditions, result.to_json()))\n",
    "        return result\n",
    "    # 查询and关系，注意这样会对xs进行布尔取值\n",
    "    def cal_p_and(self, xs, conditions=[]):\n",
    "        result = self.table\n",
    "        for k, v in conditions:\n",
    "            result = result[result[k] == v]\n",
    "        result = result[result[xs].all(axis=1)]\n",
    "        result = result['p']\n",
    "        if len(result) > 0:\n",
    "            result = result.sum()\n",
    "            print(\"P({}|{})={}\".format(xs, conditions, result))\n",
    "        return result\n",
    "    # 查询or关系，注意这样会对xs进行布尔取值\n",
    "    def cal_p_or(self, xs, conditions=[]):\n",
    "        result = self.table\n",
    "        for k, v in conditions:\n",
    "            result = result[result[k] == v]\n",
    "        result = result[result[xs].any(axis=1)]\n",
    "        result = result['p']\n",
    "        if len(result) > 0:\n",
    "            result = result.sum()\n",
    "            print(\"P({}|{})={}\".format(xs, conditions, result))\n",
    "        return result\n",
    "\n",
    "toothache = Toothache()\n",
    "# 分布\n",
    "toothache.cal_p_cond(['cavity'], [('toothache', 1)])\n",
    "toothache.cal_p_cond(['cavity'], [('toothache', 0)])\n",
    "toothache.cal_p_cond(['catch'], [('toothache', 1)])\n",
    "toothache.cal_p_cond(['catch'], [('toothache', 0)])\n",
    "toothache.cal_p_cond(['cavity', 'catch'], [('toothache', 1)])\n",
    "toothache.cal_p_cond(['cavity', 'catch'], [('toothache', 0)])\n",
    "toothache.cal_p_cond(['catch'], [('toothache', 1), ('cavity', 1)])\n",
    "toothache.cal_p_cond(['catch'], [('toothache', 0), ('cavity', 1)])\n",
    "toothache.cal_p_cond(['catch'], [('toothache', 0), ('cavity', 0)])\n",
    "# 与关系\n",
    "toothache.cal_p_and(['cavity','toothache','cavity'])\n",
    "# 或关系\n",
    "toothache.cal_p_or(['cavity','toothache'])\n"
   ],
   "metadata": {
    "collapsed": false
   }
  },
  {
   "cell_type": "code",
   "execution_count": 2,
   "outputs": [
    {
     "data": {
      "text/plain": "       (0, 0)  (0, 1)  (0, 2)  (0, 3)  (1, 0)  (1, 1)  (1, 2)  (1, 3)  (2, 0)  \\\n0           1       1       1       1       1       1       1       1       1   \n1           1       1       1       1       1       1       1       1       1   \n2           1       1       1       1       1       1       1       1       1   \n3           1       1       1       1       1       1       1       1       1   \n4           1       1       1       1       1       1       1       1       1   \n...       ...     ...     ...     ...     ...     ...     ...     ...     ...   \n65531       0       0       0       0       0       0       0       0       0   \n65532       0       0       0       0       0       0       0       0       0   \n65533       0       0       0       0       0       0       0       0       0   \n65534       0       0       0       0       0       0       0       0       0   \n65535       0       0       0       0       0       0       0       0       0   \n\n       (2, 1)  (2, 2)  (2, 3)  (3, 0)  (3, 1)  (3, 2)  (3, 3)             p  \n0           1       1       1       1       1       1       1  6.553600e-12  \n1           1       1       1       1       1       1       0  2.621440e-11  \n2           1       1       1       1       1       0       1  2.621440e-11  \n3           1       1       1       1       1       0       0  1.048576e-10  \n4           1       1       1       1       0       1       1  2.621440e-11  \n...       ...     ...     ...     ...     ...     ...     ...           ...  \n65531       0       0       0       0       1       0       0  7.036874e-03  \n65532       0       0       0       0       0       1       1  1.759219e-03  \n65533       0       0       0       0       0       1       0  7.036874e-03  \n65534       0       0       0       0       0       0       1  7.036874e-03  \n65535       0       0       0       0       0       0       0  2.814750e-02  \n\n[65536 rows x 17 columns]",
      "text/html": "<div>\n<style scoped>\n    .dataframe tbody tr th:only-of-type {\n        vertical-align: middle;\n    }\n\n    .dataframe tbody tr th {\n        vertical-align: top;\n    }\n\n    .dataframe thead th {\n        text-align: right;\n    }\n</style>\n<table border=\"1\" class=\"dataframe\">\n  <thead>\n    <tr style=\"text-align: right;\">\n      <th></th>\n      <th>(0, 0)</th>\n      <th>(0, 1)</th>\n      <th>(0, 2)</th>\n      <th>(0, 3)</th>\n      <th>(1, 0)</th>\n      <th>(1, 1)</th>\n      <th>(1, 2)</th>\n      <th>(1, 3)</th>\n      <th>(2, 0)</th>\n      <th>(2, 1)</th>\n      <th>(2, 2)</th>\n      <th>(2, 3)</th>\n      <th>(3, 0)</th>\n      <th>(3, 1)</th>\n      <th>(3, 2)</th>\n      <th>(3, 3)</th>\n      <th>p</th>\n    </tr>\n  </thead>\n  <tbody>\n    <tr>\n      <th>0</th>\n      <td>1</td>\n      <td>1</td>\n      <td>1</td>\n      <td>1</td>\n      <td>1</td>\n      <td>1</td>\n      <td>1</td>\n      <td>1</td>\n      <td>1</td>\n      <td>1</td>\n      <td>1</td>\n      <td>1</td>\n      <td>1</td>\n      <td>1</td>\n      <td>1</td>\n      <td>1</td>\n      <td>6.553600e-12</td>\n    </tr>\n    <tr>\n      <th>1</th>\n      <td>1</td>\n      <td>1</td>\n      <td>1</td>\n      <td>1</td>\n      <td>1</td>\n      <td>1</td>\n      <td>1</td>\n      <td>1</td>\n      <td>1</td>\n      <td>1</td>\n      <td>1</td>\n      <td>1</td>\n      <td>1</td>\n      <td>1</td>\n      <td>1</td>\n      <td>0</td>\n      <td>2.621440e-11</td>\n    </tr>\n    <tr>\n      <th>2</th>\n      <td>1</td>\n      <td>1</td>\n      <td>1</td>\n      <td>1</td>\n      <td>1</td>\n      <td>1</td>\n      <td>1</td>\n      <td>1</td>\n      <td>1</td>\n      <td>1</td>\n      <td>1</td>\n      <td>1</td>\n      <td>1</td>\n      <td>1</td>\n      <td>0</td>\n      <td>1</td>\n      <td>2.621440e-11</td>\n    </tr>\n    <tr>\n      <th>3</th>\n      <td>1</td>\n      <td>1</td>\n      <td>1</td>\n      <td>1</td>\n      <td>1</td>\n      <td>1</td>\n      <td>1</td>\n      <td>1</td>\n      <td>1</td>\n      <td>1</td>\n      <td>1</td>\n      <td>1</td>\n      <td>1</td>\n      <td>1</td>\n      <td>0</td>\n      <td>0</td>\n      <td>1.048576e-10</td>\n    </tr>\n    <tr>\n      <th>4</th>\n      <td>1</td>\n      <td>1</td>\n      <td>1</td>\n      <td>1</td>\n      <td>1</td>\n      <td>1</td>\n      <td>1</td>\n      <td>1</td>\n      <td>1</td>\n      <td>1</td>\n      <td>1</td>\n      <td>1</td>\n      <td>1</td>\n      <td>0</td>\n      <td>1</td>\n      <td>1</td>\n      <td>2.621440e-11</td>\n    </tr>\n    <tr>\n      <th>...</th>\n      <td>...</td>\n      <td>...</td>\n      <td>...</td>\n      <td>...</td>\n      <td>...</td>\n      <td>...</td>\n      <td>...</td>\n      <td>...</td>\n      <td>...</td>\n      <td>...</td>\n      <td>...</td>\n      <td>...</td>\n      <td>...</td>\n      <td>...</td>\n      <td>...</td>\n      <td>...</td>\n      <td>...</td>\n    </tr>\n    <tr>\n      <th>65531</th>\n      <td>0</td>\n      <td>0</td>\n      <td>0</td>\n      <td>0</td>\n      <td>0</td>\n      <td>0</td>\n      <td>0</td>\n      <td>0</td>\n      <td>0</td>\n      <td>0</td>\n      <td>0</td>\n      <td>0</td>\n      <td>0</td>\n      <td>1</td>\n      <td>0</td>\n      <td>0</td>\n      <td>7.036874e-03</td>\n    </tr>\n    <tr>\n      <th>65532</th>\n      <td>0</td>\n      <td>0</td>\n      <td>0</td>\n      <td>0</td>\n      <td>0</td>\n      <td>0</td>\n      <td>0</td>\n      <td>0</td>\n      <td>0</td>\n      <td>0</td>\n      <td>0</td>\n      <td>0</td>\n      <td>0</td>\n      <td>0</td>\n      <td>1</td>\n      <td>1</td>\n      <td>1.759219e-03</td>\n    </tr>\n    <tr>\n      <th>65533</th>\n      <td>0</td>\n      <td>0</td>\n      <td>0</td>\n      <td>0</td>\n      <td>0</td>\n      <td>0</td>\n      <td>0</td>\n      <td>0</td>\n      <td>0</td>\n      <td>0</td>\n      <td>0</td>\n      <td>0</td>\n      <td>0</td>\n      <td>0</td>\n      <td>1</td>\n      <td>0</td>\n      <td>7.036874e-03</td>\n    </tr>\n    <tr>\n      <th>65534</th>\n      <td>0</td>\n      <td>0</td>\n      <td>0</td>\n      <td>0</td>\n      <td>0</td>\n      <td>0</td>\n      <td>0</td>\n      <td>0</td>\n      <td>0</td>\n      <td>0</td>\n      <td>0</td>\n      <td>0</td>\n      <td>0</td>\n      <td>0</td>\n      <td>0</td>\n      <td>1</td>\n      <td>7.036874e-03</td>\n    </tr>\n    <tr>\n      <th>65535</th>\n      <td>0</td>\n      <td>0</td>\n      <td>0</td>\n      <td>0</td>\n      <td>0</td>\n      <td>0</td>\n      <td>0</td>\n      <td>0</td>\n      <td>0</td>\n      <td>0</td>\n      <td>0</td>\n      <td>0</td>\n      <td>0</td>\n      <td>0</td>\n      <td>0</td>\n      <td>0</td>\n      <td>2.814750e-02</td>\n    </tr>\n  </tbody>\n</table>\n<p>65536 rows × 17 columns</p>\n</div>"
     },
     "execution_count": 2,
     "metadata": {},
     "output_type": "execute_result"
    }
   ],
   "source": [
    "# 推广-如果是wumpus世界，联合分布表是怎样的？\n",
    "# 假设每个格子有0.2的概率出现pit，我们只处理对pit的猜测，因此这个表有16列\n",
    "# 按0-1取值，那么联合分布表里就有2^16=65536条数据\n",
    "def gen_pit_table(p=0.2, n=4):\n",
    "    columns = []\n",
    "    for x in range(n):\n",
    "        for y in range(n):\n",
    "            columns.append((x, y))\n",
    "    columns = columns + ['p']\n",
    "    data = []\n",
    "    recurse_pit_state([], 1, n * n, data)\n",
    "    pit = pd.DataFrame(data=data, columns=columns)\n",
    "    return pit\n",
    "\n",
    "def recurse_pit_state(state, p, n, pit_arr):\n",
    "    if len(state) == n:\n",
    "        pit_arr.append(state + [p])\n",
    "    else:\n",
    "        recurse_pit_state(state + [1], p * 0.2, n, pit_arr)\n",
    "        recurse_pit_state(state + [0], p * 0.8, n, pit_arr)\n",
    "\n",
    "pit = gen_pit_table()\n",
    "pit"
   ],
   "metadata": {
    "collapsed": false
   }
  }
 ],
 "metadata": {
  "kernelspec": {
   "display_name": "Python 3",
   "language": "python",
   "name": "python3"
  },
  "language_info": {
   "codemirror_mode": {
    "name": "ipython",
    "version": 2
   },
   "file_extension": ".py",
   "mimetype": "text/x-python",
   "name": "python",
   "nbconvert_exporter": "python",
   "pygments_lexer": "ipython2",
   "version": "2.7.6"
  }
 },
 "nbformat": 4,
 "nbformat_minor": 0
}
