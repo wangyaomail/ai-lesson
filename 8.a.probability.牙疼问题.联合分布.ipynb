{
 "cells": [
  {
   "cell_type": "raw",
   "source": [
    "联合概率"
   ],
   "metadata": {
    "collapsed": false
   }
  },
  {
   "cell_type": "code",
   "execution_count": 3,
   "outputs": [
    {
     "data": {
      "text/plain": "       p  cavity  toothache  catch\n0  0.108       1          1      1\n1  0.012       1          1      0\n2  0.016       1          0      1\n3  0.064       1          0      0\n4  0.072       0          1      1\n5  0.008       0          1      0\n6  0.144       0          0      1\n7  0.576       0          0      0",
      "text/html": "<div>\n<style scoped>\n    .dataframe tbody tr th:only-of-type {\n        vertical-align: middle;\n    }\n\n    .dataframe tbody tr th {\n        vertical-align: top;\n    }\n\n    .dataframe thead th {\n        text-align: right;\n    }\n</style>\n<table border=\"1\" class=\"dataframe\">\n  <thead>\n    <tr style=\"text-align: right;\">\n      <th></th>\n      <th>p</th>\n      <th>cavity</th>\n      <th>toothache</th>\n      <th>catch</th>\n    </tr>\n  </thead>\n  <tbody>\n    <tr>\n      <th>0</th>\n      <td>0.108</td>\n      <td>1</td>\n      <td>1</td>\n      <td>1</td>\n    </tr>\n    <tr>\n      <th>1</th>\n      <td>0.012</td>\n      <td>1</td>\n      <td>1</td>\n      <td>0</td>\n    </tr>\n    <tr>\n      <th>2</th>\n      <td>0.016</td>\n      <td>1</td>\n      <td>0</td>\n      <td>1</td>\n    </tr>\n    <tr>\n      <th>3</th>\n      <td>0.064</td>\n      <td>1</td>\n      <td>0</td>\n      <td>0</td>\n    </tr>\n    <tr>\n      <th>4</th>\n      <td>0.072</td>\n      <td>0</td>\n      <td>1</td>\n      <td>1</td>\n    </tr>\n    <tr>\n      <th>5</th>\n      <td>0.008</td>\n      <td>0</td>\n      <td>1</td>\n      <td>0</td>\n    </tr>\n    <tr>\n      <th>6</th>\n      <td>0.144</td>\n      <td>0</td>\n      <td>0</td>\n      <td>1</td>\n    </tr>\n    <tr>\n      <th>7</th>\n      <td>0.576</td>\n      <td>0</td>\n      <td>0</td>\n      <td>0</td>\n    </tr>\n  </tbody>\n</table>\n</div>"
     },
     "execution_count": 3,
     "metadata": {},
     "output_type": "execute_result"
    }
   ],
   "source": [
    "import random\n",
    "\n",
    "import numpy as np\n",
    "import pandas as pd\n",
    "import inspect\n",
    "import matplotlib.pyplot as plt\n",
    "import seaborn as sns\n",
    "toothache = pd.read_csv(\"data/toothache.csv\")\n",
    "toothache"
   ],
   "metadata": {
    "collapsed": false
   }
  },
  {
   "cell_type": "code",
   "execution_count": 4,
   "outputs": [
    {
     "name": "stdout",
     "output_type": "stream",
     "text": [
      "P(['cavity']|[('toothache', 1)])={\"p\":{\"0\":0.4,\"1\":0.6}}\n",
      "P(['cavity']|[('toothache', 0)])={\"p\":{\"0\":0.9,\"1\":0.1}}\n",
      "P(['catch']|[('toothache', 1)])={\"p\":{\"0\":0.1,\"1\":0.9}}\n",
      "P(['catch']|[('toothache', 0)])={\"p\":{\"0\":0.8,\"1\":0.2}}\n",
      "P(['cavity', 'catch']|[('toothache', 1)])={\"p\":{\"(0, 0)\":0.04,\"(0, 1)\":0.36,\"(1, 0)\":0.06,\"(1, 1)\":0.54}}\n",
      "P(['cavity', 'catch']|[('toothache', 0)])={\"p\":{\"(0, 0)\":0.72,\"(0, 1)\":0.18,\"(1, 0)\":0.08,\"(1, 1)\":0.02}}\n",
      "P(['catch']|[('toothache', 1), ('cavity', 1)])={\"p\":{\"0\":0.1,\"1\":0.9}}\n",
      "P(['catch']|[('toothache', 0), ('cavity', 1)])={\"p\":{\"0\":0.8,\"1\":0.2}}\n",
      "P(['catch']|[('toothache', 0), ('cavity', 0)])={\"p\":{\"0\":0.8,\"1\":0.2}}\n",
      "P(['cavity', 'toothache', 'cavity']|[])=0.12\n",
      "P(['cavity', 'toothache']|[])=0.28\n"
     ]
    },
    {
     "data": {
      "text/plain": "0.28"
     },
     "execution_count": 4,
     "metadata": {},
     "output_type": "execute_result"
    }
   ],
   "source": [
    "class Thing:\n",
    "    def __init__(self, name=''):\n",
    "        self.name = name\n",
    "    def __repr__(self):\n",
    "        return self.name\n",
    "\n",
    "class Toothache(Thing):\n",
    "    def __init__(self, file_path=\"data/toothache.csv\", name=''):\n",
    "        super().__init__(name)\n",
    "        self.table = pd.read_csv(file_path)\n",
    "    # 查询分布\n",
    "    def cal_p_cond(self, xs, conditions=[]):\n",
    "        result = self.table\n",
    "        for k, v in conditions:\n",
    "            result = result[result[k] == v]\n",
    "        result = result[['p'] + xs]\n",
    "        if len(result) > 0:\n",
    "            result = result.groupby(xs).sum()\n",
    "            result = result / result.sum()\n",
    "            print(\"P({}|{})={}\".format(xs, conditions, result.to_json()))\n",
    "        return result\n",
    "    # 查询and关系，注意这样会对xs进行布尔取值\n",
    "    def cal_p_and(self, xs, conditions=[]):\n",
    "        result = self.table\n",
    "        for k, v in conditions:\n",
    "            result = result[result[k] == v]\n",
    "        result = result[result[xs].all(axis=1)]\n",
    "        result = result['p']\n",
    "        if len(result) > 0:\n",
    "            result = result.sum()\n",
    "            print(\"P({}|{})={}\".format(xs, conditions, result))\n",
    "        return result\n",
    "    # 查询or关系，注意这样会对xs进行布尔取值\n",
    "    def cal_p_or(self, xs, conditions=[]):\n",
    "        result = self.table\n",
    "        for k, v in conditions:\n",
    "            result = result[result[k] == v]\n",
    "        result = result[result[xs].any(axis=1)]\n",
    "        result = result['p']\n",
    "        if len(result) > 0:\n",
    "            result = result.sum()\n",
    "            print(\"P({}|{})={}\".format(xs, conditions, result))\n",
    "        return result\n",
    "\n",
    "toothache = Toothache()\n",
    "# 分布\n",
    "toothache.cal_p_cond(['cavity'], [('toothache', 1)])\n",
    "toothache.cal_p_cond(['cavity'], [('toothache', 0)])\n",
    "toothache.cal_p_cond(['catch'], [('toothache', 1)])\n",
    "toothache.cal_p_cond(['catch'], [('toothache', 0)])\n",
    "toothache.cal_p_cond(['cavity', 'catch'], [('toothache', 1)])\n",
    "toothache.cal_p_cond(['cavity', 'catch'], [('toothache', 0)])\n",
    "toothache.cal_p_cond(['catch'], [('toothache', 1), ('cavity', 1)])\n",
    "toothache.cal_p_cond(['catch'], [('toothache', 0), ('cavity', 1)])\n",
    "toothache.cal_p_cond(['catch'], [('toothache', 0), ('cavity', 0)])\n",
    "# 与关系\n",
    "toothache.cal_p_and(['cavity','toothache','cavity'])\n",
    "# 或关系\n",
    "toothache.cal_p_or(['cavity','toothache'])\n"
   ],
   "metadata": {
    "collapsed": false
   }
  }
 ],
 "metadata": {
  "kernelspec": {
   "display_name": "Python 3",
   "language": "python",
   "name": "python3"
  },
  "language_info": {
   "codemirror_mode": {
    "name": "ipython",
    "version": 2
   },
   "file_extension": ".py",
   "mimetype": "text/x-python",
   "name": "python",
   "nbconvert_exporter": "python",
   "pygments_lexer": "ipython2",
   "version": "2.7.6"
  }
 },
 "nbformat": 4,
 "nbformat_minor": 0
}
