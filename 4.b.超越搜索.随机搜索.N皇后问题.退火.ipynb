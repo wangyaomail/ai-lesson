{
 "cells": [
  {
   "cell_type": "code",
   "execution_count": 1,
   "metadata": {
    "collapsed": true
   },
   "outputs": [
    {
     "data": {
      "text/plain": "<Figure size 432x288 with 1 Axes>",
      "image/png": "[encoded data removed]"
     },
     "metadata": {
      "needs_background": "light"
     },
     "output_type": "display_data"
    },
    {
     "name": "stdout",
     "output_type": "stream",
     "text": [
      "没有冲突\n"
     ]
    },
    {
     "data": {
      "text/plain": "<Figure size 432x288 with 1 Axes>",
      "image/png": "[encoded data removed]"
     },
     "metadata": {
      "needs_background": "light"
     },
     "output_type": "display_data"
    }
   ],
   "source": [
    "# N皇后\n",
    "import numpy as np\n",
    "import matplotlib.pyplot as plt\n",
    "import seaborn as sns\n",
    "\n",
    "plt.rcdefaults()\n",
    "plt.rcParams['figure.dpi']=50\n",
    "plt.rcParams['font.size']=20\n",
    "\n",
    "class Thing:\n",
    "    def __init__(self, name=''):\n",
    "        self.name = name\n",
    "    def __repr__(self):\n",
    "        return self.name\n",
    "\n",
    "class Problem(Thing):\n",
    "    def __init__(self, name):\n",
    "        super().__init__(name)\n",
    "\n",
    "class GameProblem(Problem):\n",
    "    def __init__(self, name):\n",
    "        super().__init__(name)\n",
    "    def check_win(self):\n",
    "        pass\n",
    "\n",
    "class NQueen(GameProblem):\n",
    "    def __init__(self, name, n):\n",
    "        super().__init__(name)\n",
    "        self.n = n\n",
    "        self.map = np.zeros((n,n))\n",
    "        # self.map = np.random.randint(0,10, (3,3))\n",
    "    def check_45(self,state_map):\n",
    "        if state_map is None:\n",
    "            state_map = self.map\n",
    "        n = self.n\n",
    "        result_list = []\n",
    "        for y in range(n-1):\n",
    "            x = n-1\n",
    "            l = 0\n",
    "            while x>=0 and y<n:\n",
    "                l += state_map[x,y]\n",
    "                x-=1\n",
    "                y+=1\n",
    "            result_list.append(l)\n",
    "        for x in range(1,n-1):\n",
    "            y = 0\n",
    "            l = 0\n",
    "            while x>=0 and y<n:\n",
    "                l += state_map[x,y]\n",
    "                x-=1\n",
    "                y+=1\n",
    "            result_list.append(l)\n",
    "        for y in range(n-1):\n",
    "            x =0\n",
    "            l = 0\n",
    "            while y<n:\n",
    "                l += state_map[x,y]\n",
    "                x+=1\n",
    "                y+=1\n",
    "            result_list.append(l)\n",
    "        for x in range(1,n-1):\n",
    "            y =0\n",
    "            l = 0\n",
    "            while x<n:\n",
    "                l += state_map[x,y]\n",
    "                x+=1\n",
    "                y+=1\n",
    "            result_list.append(l)\n",
    "        return result_list\n",
    "    def check_win(self, state_map=None):\n",
    "        if state_map is None:\n",
    "            state_map = self.map\n",
    "        check_map = np.concatenate([state_map.sum(axis=0),\n",
    "                        state_map.sum(axis=1),\n",
    "                        np.array(self.check_45(state_map))])\n",
    "        # print(check_map)\n",
    "        # print(np.where(check_map>1)[0])\n",
    "        confict_num = len(np.where(check_map>1)[0])\n",
    "        return confict_num ==0\n",
    "    def pick(self, x,y):\n",
    "        self.map[x,y]=1\n",
    "        if self.check_win():\n",
    "            print(\"没有冲突\")\n",
    "        else:\n",
    "            print(\"有冲突\")\n",
    "        self.draw()\n",
    "    def draw(self):\n",
    "        sns.heatmap(self.map.clip(0,2),\n",
    "                    cmap='Set3',\n",
    "                    center = 0,\n",
    "                    annot=True,\n",
    "                    cbar = False\n",
    "                    )\n",
    "        plt.show()\n",
    "\n",
    "game = NQueen('queen', 4)\n",
    "game.draw()\n",
    "game.pick(1,1)"
   ]
  },
  {
   "cell_type": "code",
   "execution_count": 26,
   "outputs": [
    {
     "name": "stdout",
     "output_type": "stream",
     "text": [
      "[1. 2. 0. 3. 2. 2. 1. 1. 1. 0. 1. 2. 1. 2. 2. 0. 1. 0.]\n",
      "[ 1  3  4  5 11 13 14]\n",
      "有冲突\n"
     ]
    },
    {
     "data": {
      "text/plain": "<Figure size 320x240 with 1 Axes>",
      "image/png": "[encoded data removed]"
     },
     "metadata": {},
     "output_type": "display_data"
    }
   ],
   "source": [
    "game.pick(0,1)"
   ],
   "metadata": {
    "collapsed": false
   }
  },
  {
   "cell_type": "code",
   "execution_count": 80,
   "outputs": [
    {
     "name": "stdout",
     "output_type": "stream",
     "text": [
      "第3000次选点：[6 6 0 4 4 1 3 6 2 0 7 6 0 6 5 1]\n",
      "第6000次选点：[0 5 6 4 6 0 1 2 2 6 6 1 3 1 1 0]\n",
      "第9000次选点：[1 7 6 0 6 3 4 2 3 7 3 6 4 0 3 5]\n",
      "第12000次选点：[6 0 4 1 5 6 1 1 7 2 1 0 7 6 3 7]\n",
      "第15000次选点：[0 5 6 6 1 3 7 5 5 6 3 4 2 1 0 2]\n",
      "第18000次选点：[4 1 3 2 7 1 5 7 3 5 7 5 7 4 2 6]\n",
      "第21000次选点：[7 6 4 1 2 2 6 2 5 5 3 1 6 1 0 2]\n",
      "第24000次选点：[3 2 3 6 6 1 0 5 3 4 1 2 5 7 6 3]\n",
      "第27000次选点：[2 0 0 5 2 5 4 5 7 4 4 4 2 3 3 2]\n",
      "第30000次选点：[3 7 2 2 0 7 0 4 2 4 2 3 1 5 5 4]\n"
     ]
    }
   ],
   "source": [
    "# 随机选点\n",
    "class RandomPickNQueen(NQueen):\n",
    "    def __init__(self, name, n):\n",
    "        super().__init__(name, n)\n",
    "    def auto_pick(self):\n",
    "        n = self.n\n",
    "        pick_time=0\n",
    "        total_time= 30000\n",
    "        while pick_time<total_time:\n",
    "            pick_time += 1\n",
    "            actions = np.concatenate([(np.where(self.map==0))], axis=1).T\n",
    "            # print(actions)\n",
    "            pick_list = actions[np.random.choice(np.arange(n*n), n, replace=False)]\n",
    "            # print(pick_list)\n",
    "            for x,y in pick_list:\n",
    "                self.map[x,y] = 1\n",
    "            if self.check_win():\n",
    "                print(\"找到符合要求的四个点\")\n",
    "                self.draw()\n",
    "                return True\n",
    "            else:\n",
    "                self.map -= self.map\n",
    "                if pick_time % (total_time/10) ==0:\n",
    "                    print(\"第{}次选点：{}\".format(pick_time, pick_list.flatten()))\n",
    "game = RandomPickNQueen('rand_queen', 8)\n",
    "game.auto_pick()"
   ],
   "metadata": {
    "collapsed": false
   }
  },
  {
   "cell_type": "code",
   "execution_count": 81,
   "outputs": [
    {
     "name": "stdout",
     "output_type": "stream",
     "text": [
      "第142次选点：[(2, 3), (0, 5), (5, 1), (4, 0), (1, 7), (6, 4), (3, 6), (7, 2)]\n",
      "没有找到符合要求的点\n"
     ]
    },
    {
     "data": {
      "text/plain": "<Figure size 320x240 with 1 Axes>",
      "image/png": "[encoded data removed]"
     },
     "metadata": {},
     "output_type": "display_data"
    }
   ],
   "source": [
    "# 在之前节点基础上随机选\n",
    "class RandomPickNQueen(NQueen):\n",
    "    def __init__(self, name, n):\n",
    "        super().__init__(name, n)\n",
    "    def auto_pick(self):\n",
    "        n = self.n\n",
    "        pick_time=0\n",
    "        total_time= 10000\n",
    "        pick_list = []\n",
    "        while pick_time<total_time and len(pick_list)<n:\n",
    "            pick_time += 1\n",
    "            actions = np.concatenate([(np.where(self.map==0))], axis=1).T\n",
    "            # print(actions)\n",
    "            x,y=actions[np.random.randint(0,len(actions))]\n",
    "            # print(pick_list)\n",
    "            self.map[x,y] = 1\n",
    "            if self.check_win():\n",
    "                pick_list.append((x,y))\n",
    "            else:\n",
    "                self.map[x,y] = 0\n",
    "        print(\"第{}次选点：{}\".format(pick_time, pick_list))\n",
    "        if len(pick_list) == 4:\n",
    "            print(\"找到符合要求的四个点\")\n",
    "        else:\n",
    "            print(\"没有找到符合要求的点\")\n",
    "        self.draw()\n",
    "game = RandomPickNQueen('rand_queen', 8)\n",
    "game.auto_pick()"
   ],
   "metadata": {
    "collapsed": false
   }
  },
  {
   "cell_type": "code",
   "execution_count": 112,
   "outputs": [
    {
     "name": "stdout",
     "output_type": "stream",
     "text": [
      "0 [6.0, 8.0, 5.0]\n",
      "1000 [3.0, 4.0, 3.0]\n",
      "2000 [3.0, 4.0, 3.0]\n",
      "3000 [3.0, 3.0, 3.0]\n",
      "4000 [3.0, 2.0, 3.0]\n",
      "5000 [2.0, 1.0, 2.0]\n",
      "6000 [1.0, 1.0, 2.0]\n",
      "7000 [0.0, 1.0, 1.0]\n",
      "[array([[4, 5],\n",
      "       [0, 3],\n",
      "       [3, 7],\n",
      "       [1, 1],\n",
      "       [6, 2],\n",
      "       [5, 0],\n",
      "       [7, 6],\n",
      "       [2, 4]], dtype=int64), 0.0]\n"
     ]
    },
    {
     "data": {
      "text/plain": "<Figure size 320x240 with 1 Axes>",
      "image/png": "[encoded data removed]"
     },
     "metadata": {},
     "output_type": "display_data"
    }
   ],
   "source": [
    "# 退火\n",
    "class AnnealPickNQueen(NQueen):\n",
    "    def __init__(self, name, n):\n",
    "        super().__init__(name, n)\n",
    "    def cal_conflict(self, state_map=None):\n",
    "        if state_map is None:\n",
    "            state_map = self.map\n",
    "        check_map = np.concatenate([state_map.sum(axis=0),\n",
    "                        state_map.sum(axis=1),\n",
    "                        np.array(self.check_45(state_map))])\n",
    "        # 记录总体有冲突的情况，效果一般\n",
    "        # conflict_num = len(np.where(check_map>1)[0])\n",
    "        # 直接求和，效果一般\n",
    "        # conflict_num = check_map.sum()\n",
    "        # 仅对有冲突的情况进行求和，效果最好\n",
    "        conflict_num = (check_map[np.where(check_map>1)[0]]-1).sum()\n",
    "        return conflict_num\n",
    "\n",
    "    def auto_pick(self):\n",
    "        n = self.n\n",
    "        # 广撒网\n",
    "        init_nodes = []\n",
    "        init_nodes_num = 3\n",
    "        actions = np.concatenate([(np.where(self.map==0))], axis=1).T\n",
    "        for i in range(init_nodes_num):\n",
    "            init_list = actions[np.random.choice(np.arange(n*n), n, replace=False)]\n",
    "            for x,y in init_list:\n",
    "                self.map[x,y] = 1\n",
    "            init_nodes.append([init_list, self.cal_conflict()])\n",
    "            self.map -= self.map\n",
    "        # print(init_nodes)\n",
    "        # 冷却\n",
    "        t = 8\n",
    "        pick_time=0\n",
    "        while t!=0:\n",
    "            # 选t个点，把它们随机换成另外的没有点的地方\n",
    "            for [init_list, conflict_score_1], idx in zip(init_nodes, range(init_nodes_num+100)):\n",
    "                np.random.shuffle(init_list)\n",
    "                for x,y in init_list[:-t]:\n",
    "                    self.map[x,y] = 1\n",
    "                # 再计算新的状态的conflict分数，和原先状态比较，好的话进行替换\n",
    "                actions = np.concatenate([(np.where(self.map==0))], axis=1).T\n",
    "                rand_list_2 = actions[np.random.choice(np.arange(len(actions)), t, replace=False)]\n",
    "                for x,y in rand_list_2:\n",
    "                    self.map[x,y] = 1\n",
    "                conflict_score_2 = self.cal_conflict()\n",
    "                if conflict_score_2<conflict_score_1:\n",
    "                    init_list[-t:] = rand_list_2\n",
    "                    init_nodes[idx][1] = conflict_score_2\n",
    "                self.map -= self.map\n",
    "            if pick_time % 1000 ==0:\n",
    "                print(pick_time, [x[1] for x in init_nodes])\n",
    "                t-=1\n",
    "            pick_time+=1\n",
    "        init_nodes.sort(key=lambda x:x[1], reverse=False)\n",
    "        print(init_nodes[0])\n",
    "        for x,y in init_nodes[0][0]:\n",
    "            self.map[x,y] = 1\n",
    "        self.draw()\n",
    "\n",
    "game = AnnealPickNQueen('rand_queen', 8)\n",
    "game.auto_pick()"
   ],
   "metadata": {
    "collapsed": false
   }
  },
  {
   "cell_type": "code",
   "execution_count": 107,
   "outputs": [
    {
     "data": {
      "text/plain": "'1.0,1.0,1.0,0.0,0.0,1.0,1.0,0.0,0.0,0.0,1.0,1.0,1.0,1.0,0.0,1.0,1.0,0.0,0.0,0.0,1.0,1.0,1.0,1.0,0.0,0.0'"
     },
     "execution_count": 107,
     "metadata": {},
     "output_type": "execute_result"
    }
   ],
   "source": [
    "#[(6, 0), (5, 1), (4, 2), (3, 3), (2, 4), (1, 5), (0, 6)]\n",
    "\",\".join([str(x) for x in game.check_45(game.map)])"
   ],
   "metadata": {
    "collapsed": false
   }
  },
  {
   "cell_type": "code",
   "execution_count": 99,
   "outputs": [
    {
     "name": "stdout",
     "output_type": "stream",
     "text": [
      "[[0. 0. 0. 0. 0. 0. 0. 1.]\n",
      " [0. 0. 0. 0. 0. 1. 0. 0.]\n",
      " [0. 1. 0. 0. 0. 0. 0. 0.]\n",
      " [0. 0. 0. 1. 0. 0. 0. 0.]\n",
      " [0. 0. 1. 0. 0. 0. 0. 0.]\n",
      " [1. 0. 0. 0. 0. 0. 0. 0.]\n",
      " [0. 0. 0. 0. 1. 0. 0. 0.]\n",
      " [0. 0. 0. 0. 0. 0. 1. 0.]]\n",
      "[(7, 0), (6, 1), (5, 2), (4, 3), (3, 4), (2, 5), (1, 6), (0, 7)]\n",
      "[(7, 1), (6, 2), (5, 3), (4, 4), (3, 5), (2, 6), (1, 7)]\n",
      "[(7, 2), (6, 3), (5, 4), (4, 5), (3, 6), (2, 7)]\n",
      "[(7, 3), (6, 4), (5, 5), (4, 6), (3, 7)]\n",
      "[(7, 4), (6, 5), (5, 6), (4, 7)]\n",
      "[(7, 5), (6, 6), (5, 7)]\n",
      "[(7, 6), (6, 7)]\n",
      "[(1, 0), (0, 1)]\n",
      "[(2, 0), (1, 1), (0, 2)]\n",
      "[(3, 0), (2, 1), (1, 2), (0, 3)]\n",
      "[(4, 0), (3, 1), (2, 2), (1, 3), (0, 4)]\n",
      "[(5, 0), (4, 1), (3, 2), (2, 3), (1, 4), (0, 5)]\n",
      "[(6, 0), (5, 1), (4, 2), (3, 3), (2, 4), (1, 5), (0, 6)]\n",
      "[(0, 0), (1, 1), (2, 2), (3, 3), (4, 4), (5, 5), (6, 6), (7, 7)]\n",
      "[(0, 1), (1, 2), (2, 3), (3, 4), (4, 5), (5, 6), (6, 7)]\n",
      "[(0, 2), (1, 3), (2, 4), (3, 5), (4, 6), (5, 7)]\n",
      "[(0, 3), (1, 4), (2, 5), (3, 6), (4, 7)]\n",
      "[(0, 4), (1, 5), (2, 6), (3, 7)]\n",
      "[(0, 5), (1, 6), (2, 7)]\n",
      "[(0, 6), (1, 7)]\n",
      "[(1, 0), (2, 1), (3, 2), (4, 3), (5, 4), (6, 5), (7, 6)]\n",
      "[(2, 0), (3, 1), (4, 2), (5, 3), (6, 4), (7, 5)]\n",
      "[(3, 0), (4, 1), (5, 2), (6, 3), (7, 4)]\n",
      "[(4, 0), (5, 1), (6, 2), (7, 3)]\n",
      "[(5, 0), (6, 1), (7, 2)]\n",
      "[(6, 0), (7, 1)]\n"
     ]
    }
   ],
   "source": [
    "import numpy as np\n",
    "n =8\n",
    "arr = np.arange(n*n).reshape(n,n)\n",
    "arr = game.map.copy()\n",
    "print(arr)\n",
    "for y in range(n-1):\n",
    "    x = n-1\n",
    "    l = []\n",
    "    while x>=0 and y<n:\n",
    "        l.append((x,y))\n",
    "        x-=1\n",
    "        y+=1\n",
    "    print(l)\n",
    "for x in range(1,n-1):\n",
    "    y = 0\n",
    "    l = []\n",
    "    while x>=0 and y<n:\n",
    "        l.append((x,y))\n",
    "        x-=1\n",
    "        y+=1\n",
    "    print(l)\n",
    "for y in range(n-1):\n",
    "    x =0\n",
    "    l = []\n",
    "    while y<n:\n",
    "        l.append((x,y))\n",
    "        x+=1\n",
    "        y+=1\n",
    "    print(l)\n",
    "for x in range(1,n-1):\n",
    "    y =0\n",
    "    l = []\n",
    "    while x<n:\n",
    "        l.append((x,y))\n",
    "        x+=1\n",
    "        y+=1\n",
    "    print(l)"
   ],
   "metadata": {
    "collapsed": false
   }
  },
  {
   "cell_type": "markdown",
   "source": [
    "(3,0)\n",
    "(2,0)(3,1)\n",
    "(1,0)(2,1)(3,2)\n",
    "(00)(11)(22)(33)\n",
    "(0,1)(1,2)(2,3)\n",
    "(0,2)(1,3)\n",
    "(0,3)\n",
    "(3,3)\n",
    "(3,2)(2,3)\n",
    "(3,1)(2,2)(1,3)\n",
    "(3,0)(2,1)(1,2)(0,3)\n",
    "(2,0)(1,1)(0,2)\n",
    "(1,0)(0,1)\n",
    "(0,0)"
   ],
   "metadata": {
    "collapsed": false
   }
  }
 ],
 "metadata": {
  "kernelspec": {
   "display_name": "Python 3",
   "language": "python",
   "name": "python3"
  },
  "language_info": {
   "codemirror_mode": {
    "name": "ipython",
    "version": 2
   },
   "file_extension": ".py",
   "mimetype": "text/x-python",
   "name": "python",
   "nbconvert_exporter": "python",
   "pygments_lexer": "ipython2",
   "version": "2.7.6"
  }
 },
 "nbformat": 4,
 "nbformat_minor": 0
}
