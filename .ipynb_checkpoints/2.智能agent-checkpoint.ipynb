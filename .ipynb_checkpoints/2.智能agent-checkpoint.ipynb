{
 "cells": [
  {
   "cell_type": "code",
   "execution_count": 1,
   "metadata": {
    "collapsed": true,
    "pycharm": {
     "name": "#%%\n"
    }
   },
   "outputs": [
    {
     "name": "stdout",
     "output_type": "stream",
     "text": [
      "tick:   ============1===========\n",
      "map:    [{\"name\": \"A\", \"neat\": \"Clean\"}, {\"name\": \"B\", \"neat\": \"Dirty\"}]\n",
      "agents: [{\"name\": \"Agent\", \"loc\": 0, \"action\": \"Suck\"}]\n"
     ]
    },
    {
     "ename": "KeyboardInterrupt",
     "evalue": "",
     "output_type": "error",
     "traceback": [
      "\u001b[1;31m---------------------------------------------------------------------------\u001b[0m",
      "\u001b[1;31mKeyboardInterrupt\u001b[0m                         Traceback (most recent call last)",
      "Input \u001b[1;32mIn [1]\u001b[0m, in \u001b[0;36m<cell line: 79>\u001b[1;34m()\u001b[0m\n\u001b[0;32m     75\u001b[0m             time\u001b[38;5;241m.\u001b[39msleep(\u001b[38;5;241m2\u001b[39m)\n\u001b[0;32m     78\u001b[0m world \u001b[38;5;241m=\u001b[39m World()\n\u001b[1;32m---> 79\u001b[0m \u001b[43mworld\u001b[49m\u001b[38;5;241;43m.\u001b[39;49m\u001b[43mliving\u001b[49m\u001b[43m(\u001b[49m\u001b[43m)\u001b[49m\n",
      "Input \u001b[1;32mIn [1]\u001b[0m, in \u001b[0;36mWorld.living\u001b[1;34m(self)\u001b[0m\n\u001b[0;32m     73\u001b[0m world\u001b[38;5;241m.\u001b[39mact()\n\u001b[0;32m     74\u001b[0m \u001b[38;5;28mprint\u001b[39m(world)\n\u001b[1;32m---> 75\u001b[0m \u001b[43mtime\u001b[49m\u001b[38;5;241;43m.\u001b[39;49m\u001b[43msleep\u001b[49m\u001b[43m(\u001b[49m\u001b[38;5;241;43m2\u001b[39;49m\u001b[43m)\u001b[49m\n",
      "\u001b[1;31mKeyboardInterrupt\u001b[0m: "
     ]
    }
   ],
   "source": [
    "import os\n",
    "import json\n",
    "import random\n",
    "import time\n",
    "import copy\n",
    "\n",
    "\n",
    "class Thing:\n",
    "    def __init__(self, name):\n",
    "        self.name = name\n",
    "\n",
    "    def state(self):\n",
    "        return json.dumps(self.__dict__)\n",
    "\n",
    "    def __repr__(self):\n",
    "        return self.state()\n",
    "\n",
    "    def act(self):\n",
    "        pass\n",
    "\n",
    "\n",
    "class Room(Thing):\n",
    "    def __init__(self, name, neat):\n",
    "        super().__init__(name)\n",
    "        self.neat = neat\n",
    "\n",
    "\n",
    "class Agent(Thing):\n",
    "    def __init__(self, loc):\n",
    "        super().__init__(self.__class__.__name__)\n",
    "        self.loc = loc\n",
    "        self.action = 'NoOp'\n",
    "\n",
    "    def act(self, world):\n",
    "        self.action = random.choice(['Left', 'Right', 'Suck', 'NoOp'])\n",
    "        return self.action\n",
    "\n",
    "\n",
    "class World(Thing):\n",
    "    def __init__(self):\n",
    "        self.map = [\n",
    "            Room('A', 'Clean'),\n",
    "            Room('B', 'Dirty')\n",
    "        ]\n",
    "        self.agents = [Agent(0)]\n",
    "        self.tick = 0\n",
    "\n",
    "    def __repr__(self):\n",
    "        return \"\\n\".join([\n",
    "            \"tick:   ============{}===========\".format(self.tick),\n",
    "            \"map:    {}\".format(self.map),\n",
    "            \"agents: {}\".format(self.agents),\n",
    "        ])\n",
    "\n",
    "    def act(self):\n",
    "        self.tick += 1\n",
    "        # 更新rooms\n",
    "        for room in self.map:\n",
    "            if random.randint(1, 4) == 1:\n",
    "                room.neat = 'Dirty'\n",
    "        # 更新Agent\n",
    "        for agent in self.agents:\n",
    "            action = agent.act(self)  # Left, Right, Suck, NoOp\n",
    "            if action == 'Left':\n",
    "                agent.loc = (agent.loc - 1) % len(self.map)\n",
    "            elif action == 'Right':\n",
    "                agent.loc = (agent.loc + 1) % len(self.map)\n",
    "            elif action == 'Suck':\n",
    "                self.map[agent.loc].neat = 'Clean'\n",
    "\n",
    "    def living(self):\n",
    "        while True:\n",
    "            world.act()\n",
    "            print(world)\n",
    "            time.sleep(2)\n",
    "\n",
    "\n",
    "world = World()\n",
    "world.living()"
   ]
  },
  {
   "cell_type": "code",
   "execution_count": 2,
   "metadata": {
    "pycharm": {
     "name": "#%%\n"
    }
   },
   "outputs": [
    {
     "name": "stdout",
     "output_type": "stream",
     "text": [
      "tick:   ============1===========\n",
      "map:    [{\"name\": \"A\", \"neat\": \"Clean\"}, {\"name\": \"B\", \"neat\": \"Dirty\"}]\n",
      "agents: [{\"name\": \"TableAgent\", \"loc\": 1, \"action\": \"Right\"}]\n",
      "tick:   ============2===========\n",
      "map:    [{\"name\": \"A\", \"neat\": \"Clean\"}, {\"name\": \"B\", \"neat\": \"Clean\"}]\n",
      "agents: [{\"name\": \"TableAgent\", \"loc\": 1, \"action\": \"Suck\"}]\n"
     ]
    },
    {
     "ename": "KeyboardInterrupt",
     "evalue": "",
     "output_type": "error",
     "traceback": [
      "\u001b[1;31m---------------------------------------------------------------------------\u001b[0m",
      "\u001b[1;31mKeyboardInterrupt\u001b[0m                         Traceback (most recent call last)",
      "Input \u001b[1;32mIn [2]\u001b[0m, in \u001b[0;36m<cell line: 27>\u001b[1;34m()\u001b[0m\n\u001b[0;32m     25\u001b[0m world \u001b[38;5;241m=\u001b[39m World()\n\u001b[0;32m     26\u001b[0m world\u001b[38;5;241m.\u001b[39magents \u001b[38;5;241m=\u001b[39m [TableAgent(\u001b[38;5;241m0\u001b[39m)]\n\u001b[1;32m---> 27\u001b[0m \u001b[43mworld\u001b[49m\u001b[38;5;241;43m.\u001b[39;49m\u001b[43mliving\u001b[49m\u001b[43m(\u001b[49m\u001b[43m)\u001b[49m\n",
      "Input \u001b[1;32mIn [1]\u001b[0m, in \u001b[0;36mWorld.living\u001b[1;34m(self)\u001b[0m\n\u001b[0;32m     73\u001b[0m world\u001b[38;5;241m.\u001b[39mact()\n\u001b[0;32m     74\u001b[0m \u001b[38;5;28mprint\u001b[39m(world)\n\u001b[1;32m---> 75\u001b[0m \u001b[43mtime\u001b[49m\u001b[38;5;241;43m.\u001b[39;49m\u001b[43msleep\u001b[49m\u001b[43m(\u001b[49m\u001b[38;5;241;43m2\u001b[39;49m\u001b[43m)\u001b[49m\n",
      "\u001b[1;31mKeyboardInterrupt\u001b[0m: "
     ]
    }
   ],
   "source": [
    "# 基于Table的Agent\n",
    "class TableAgent(Agent):\n",
    "    def __init__(self, loc):\n",
    "        super().__init__(loc)\n",
    "        self.table = {\n",
    "            (('A', 'Clean')): 'Right',\n",
    "            (('A', 'Dirty')): 'Suck',\n",
    "            (('B', 'Clean')): 'Left',\n",
    "            (('B', 'Dirty')): 'Suck',\n",
    "            (('A', 'Clean'), ('A', 'Clean')): 'Right',\n",
    "            (('A', 'Dirty'), ('A', 'Dirty')): 'Suck',\n",
    "        }\n",
    "\n",
    "    def act(self, world):\n",
    "        room = world.map[self.loc]\n",
    "        self.action = self.table.get((room.name, room.neat))\n",
    "        return self.action\n",
    "\n",
    "    def __repr__(self):\n",
    "        my_dict = copy.copy(self.__dict__)\n",
    "        my_dict.pop('table')\n",
    "        return json.dumps(my_dict)\n",
    "\n",
    "\n",
    "world = World()\n",
    "world.agents = [TableAgent(0)]\n",
    "world.living()"
   ]
  },
  {
   "cell_type": "code",
   "execution_count": 5,
   "metadata": {
    "pycharm": {
     "name": "#%%\n"
    }
   },
   "outputs": [
    {
     "name": "stdout",
     "output_type": "stream",
     "text": [
      "tick:   ============1===========\n",
      "map:    [{\"name\": \"A\", \"neat\": \"Clean\"}, {\"name\": \"B\", \"neat\": \"Dirty\"}]\n",
      "agents: [{\"name\": \"ReflexAgent\", \"loc\": 1, \"action\": \"Right\"}]\n"
     ]
    },
    {
     "ename": "KeyboardInterrupt",
     "evalue": "",
     "output_type": "error",
     "traceback": [
      "\u001b[1;31m---------------------------------------------------------------------------\u001b[0m",
      "\u001b[1;31mKeyboardInterrupt\u001b[0m                         Traceback (most recent call last)",
      "Input \u001b[1;32mIn [5]\u001b[0m, in \u001b[0;36m<cell line: 38>\u001b[1;34m()\u001b[0m\n\u001b[0;32m     36\u001b[0m world \u001b[38;5;241m=\u001b[39m NoChangeWorld()\n\u001b[0;32m     37\u001b[0m world\u001b[38;5;241m.\u001b[39magents \u001b[38;5;241m=\u001b[39m [ReflexAgent(\u001b[38;5;241m0\u001b[39m)]\n\u001b[1;32m---> 38\u001b[0m \u001b[43mworld\u001b[49m\u001b[38;5;241;43m.\u001b[39;49m\u001b[43mliving\u001b[49m\u001b[43m(\u001b[49m\u001b[43m)\u001b[49m\n",
      "Input \u001b[1;32mIn [1]\u001b[0m, in \u001b[0;36mWorld.living\u001b[1;34m(self)\u001b[0m\n\u001b[0;32m     73\u001b[0m world\u001b[38;5;241m.\u001b[39mact()\n\u001b[0;32m     74\u001b[0m \u001b[38;5;28mprint\u001b[39m(world)\n\u001b[1;32m---> 75\u001b[0m \u001b[43mtime\u001b[49m\u001b[38;5;241;43m.\u001b[39;49m\u001b[43msleep\u001b[49m\u001b[43m(\u001b[49m\u001b[38;5;241;43m2\u001b[39;49m\u001b[43m)\u001b[49m\n",
      "\u001b[1;31mKeyboardInterrupt\u001b[0m: "
     ]
    }
   ],
   "source": [
    "# 简单反射的Agent\n",
    "class ReflexAgent(Agent):\n",
    "    def __init__(self, loc):\n",
    "        super().__init__(loc)\n",
    "\n",
    "    def act(self, world):\n",
    "        room = world.map[self.loc]\n",
    "        self.action = 'NoOp'\n",
    "        if room.neat == 'Dirty':\n",
    "            self.action = 'Suck'\n",
    "        elif room.name == 'A':\n",
    "            self.action = 'Right'\n",
    "        elif room.name == 'B':\n",
    "            self.action = 'Left'\n",
    "        return self.action\n",
    "\n",
    "    def __repr__(self):\n",
    "        my_dict = copy.copy(self.__dict__)\n",
    "        return json.dumps(my_dict)\n",
    "\n",
    "\n",
    "class NoChangeWorld(World):\n",
    "    def act(self):\n",
    "        self.tick += 1\n",
    "        # 更新Agent\n",
    "        for agent in self.agents:\n",
    "            action = agent.act(self)  # Left, Right, Suck, NoOp\n",
    "            if action == 'Left':\n",
    "                agent.loc = (agent.loc - 1) % len(self.map)\n",
    "            elif action == 'Right':\n",
    "                agent.loc = (agent.loc + 1) % len(self.map)\n",
    "            elif action == 'Suck':\n",
    "                self.map[agent.loc].neat = 'Clean'\n",
    "\n",
    "\n",
    "world = NoChangeWorld()\n",
    "world.agents = [ReflexAgent(0)]\n",
    "world.living()"
   ]
  },
  {
   "cell_type": "code",
   "execution_count": 3,
   "metadata": {
    "pycharm": {
     "name": "#%%\n"
    }
   },
   "outputs": [
    {
     "name": "stdout",
     "output_type": "stream",
     "text": [
      "tick:   ============1===========\n",
      "map:    [{\"name\": \"A\", \"neat\": \"Clean\"}, {\"name\": \"B\", \"neat\": \"Dirty\"}]\n",
      "agents: [{\"name\": \"ModelAgent\", \"loc\": 1, \"action\": \"Right\"}]\n"
     ]
    },
    {
     "ename": "KeyboardInterrupt",
     "evalue": "",
     "output_type": "error",
     "traceback": [
      "\u001b[1;31m---------------------------------------------------------------------------\u001b[0m",
      "\u001b[1;31mKeyboardInterrupt\u001b[0m                         Traceback (most recent call last)",
      "Input \u001b[1;32mIn [3]\u001b[0m, in \u001b[0;36m<cell line: 40>\u001b[1;34m()\u001b[0m\n\u001b[0;32m     38\u001b[0m world \u001b[38;5;241m=\u001b[39m World()\n\u001b[0;32m     39\u001b[0m world\u001b[38;5;241m.\u001b[39magents \u001b[38;5;241m=\u001b[39m [ModelAgent(\u001b[38;5;241m0\u001b[39m, world)]\n\u001b[1;32m---> 40\u001b[0m \u001b[43mworld\u001b[49m\u001b[38;5;241;43m.\u001b[39;49m\u001b[43mliving\u001b[49m\u001b[43m(\u001b[49m\u001b[43m)\u001b[49m\n",
      "Input \u001b[1;32mIn [1]\u001b[0m, in \u001b[0;36mWorld.living\u001b[1;34m(self)\u001b[0m\n\u001b[0;32m     73\u001b[0m world\u001b[38;5;241m.\u001b[39mact()\n\u001b[0;32m     74\u001b[0m \u001b[38;5;28mprint\u001b[39m(world)\n\u001b[1;32m---> 75\u001b[0m \u001b[43mtime\u001b[49m\u001b[38;5;241;43m.\u001b[39;49m\u001b[43msleep\u001b[49m\u001b[43m(\u001b[49m\u001b[38;5;241;43m2\u001b[39;49m\u001b[43m)\u001b[49m\n",
      "\u001b[1;31mKeyboardInterrupt\u001b[0m: "
     ]
    }
   ],
   "source": [
    "# 基于模型的Agent\n",
    "class Model(Thing):\n",
    "    def __init__(self, world):\n",
    "        self.world = world\n",
    "        self.resume()\n",
    "\n",
    "    def act(self, loc):\n",
    "        room = self.map[loc]\n",
    "        action = 'NoOp'\n",
    "        if room.neat == 'Dirty':\n",
    "            action = 'Suck'\n",
    "        elif room.name == 'A':\n",
    "            action = 'Right'\n",
    "        elif room.name == 'B':\n",
    "            action = 'Left'\n",
    "        return action\n",
    "\n",
    "    def resume(self):\n",
    "        self.map = copy.deepcopy(world.map)\n",
    "\n",
    "\n",
    "class ModelAgent(Agent):\n",
    "    def __init__(self, loc, world):\n",
    "        super().__init__(loc)\n",
    "        self.model = Model(world)\n",
    "\n",
    "    def act(self, world):\n",
    "        self.model.resume()\n",
    "        self.action = self.model.act(self.loc)\n",
    "        return self.action\n",
    "\n",
    "    def __repr__(self):\n",
    "        my_dict = copy.copy(self.__dict__)\n",
    "        my_dict.pop('model')\n",
    "        return json.dumps(my_dict)\n",
    "\n",
    "\n",
    "world = World()\n",
    "world.agents = [ModelAgent(0, world)]\n",
    "world.living()"
   ]
  },
  {
   "cell_type": "code",
   "execution_count": 6,
   "metadata": {
    "pycharm": {
     "name": "#%%\n"
    }
   },
   "outputs": [
    {
     "name": "stdout",
     "output_type": "stream",
     "text": [
      "tick:   ============1===========\n",
      "map:    [{\"name\": \"A\", \"neat\": \"Clean\"}, {\"name\": \"B\", \"neat\": \"Clean\"}]\n",
      "agents: [{\"name\": \"GoalAgent\", \"loc\": 0, \"action\": \"Suck\"}]\n",
      "tick:   ============2===========\n",
      "map:    [{\"name\": \"A\", \"neat\": \"Clean\"}, {\"name\": \"B\", \"neat\": \"Clean\"}]\n",
      "agents: [{\"name\": \"GoalAgent\", \"loc\": 1, \"action\": \"Left\"}]\n"
     ]
    },
    {
     "ename": "KeyboardInterrupt",
     "evalue": "",
     "output_type": "error",
     "traceback": [
      "\u001b[1;31m---------------------------------------------------------------------------\u001b[0m",
      "\u001b[1;31mKeyboardInterrupt\u001b[0m                         Traceback (most recent call last)",
      "Input \u001b[1;32mIn [6]\u001b[0m, in \u001b[0;36m<cell line: 43>\u001b[1;34m()\u001b[0m\n\u001b[0;32m     41\u001b[0m world\u001b[38;5;241m.\u001b[39mmap[\u001b[38;5;241m1\u001b[39m]\u001b[38;5;241m.\u001b[39mneat\u001b[38;5;241m=\u001b[39m\u001b[38;5;124m'\u001b[39m\u001b[38;5;124mClean\u001b[39m\u001b[38;5;124m'\u001b[39m\n\u001b[0;32m     42\u001b[0m world\u001b[38;5;241m.\u001b[39magents \u001b[38;5;241m=\u001b[39m [GoalAgent(\u001b[38;5;241m0\u001b[39m, world)]\n\u001b[1;32m---> 43\u001b[0m \u001b[43mworld\u001b[49m\u001b[38;5;241;43m.\u001b[39;49m\u001b[43mliving\u001b[49m\u001b[43m(\u001b[49m\u001b[43m)\u001b[49m\n",
      "Input \u001b[1;32mIn [1]\u001b[0m, in \u001b[0;36mWorld.living\u001b[1;34m(self)\u001b[0m\n\u001b[0;32m     73\u001b[0m world\u001b[38;5;241m.\u001b[39mact()\n\u001b[0;32m     74\u001b[0m \u001b[38;5;28mprint\u001b[39m(world)\n\u001b[1;32m---> 75\u001b[0m \u001b[43mtime\u001b[49m\u001b[38;5;241;43m.\u001b[39;49m\u001b[43msleep\u001b[49m\u001b[43m(\u001b[49m\u001b[38;5;241;43m2\u001b[39;49m\u001b[43m)\u001b[49m\n",
      "\u001b[1;31mKeyboardInterrupt\u001b[0m: "
     ]
    }
   ],
   "source": [
    "# 基于目标的Agent\n",
    "class GoalModel(Model):\n",
    "    def act(self, loc, action):\n",
    "        if action == 'Left':\n",
    "            loc = (loc - 1) % len(self.map)\n",
    "        elif action == 'Right':\n",
    "            loc = (loc + 1) % len(self.map)\n",
    "        elif action == 'Suck':\n",
    "            self.map[loc].neat = 'Clean'\n",
    "        return self.check_goal()\n",
    "\n",
    "    def check_goal(self):\n",
    "        if self.map[0].neat == self.map[1].neat == 'Clean':\n",
    "            return True\n",
    "        else:\n",
    "            return False\n",
    "\n",
    "\n",
    "class GoalAgent(Agent):\n",
    "    def __init__(self, loc, world):\n",
    "        super().__init__(loc)\n",
    "        self.model = GoalModel(world)\n",
    "\n",
    "    def act(self, world):\n",
    "        self.action = 'NoOp'\n",
    "        for action in ['Left', 'Right', 'Suck', 'NoOp']:\n",
    "            self.model.resume()\n",
    "            if self.model.act(self.loc, action):\n",
    "                self.action = action\n",
    "                break\n",
    "        return self.action\n",
    "\n",
    "    def __repr__(self):\n",
    "        my_dict = copy.copy(self.__dict__)\n",
    "        my_dict.pop('model')\n",
    "        return json.dumps(my_dict)\n",
    "\n",
    "\n",
    "world = NoChangeWorld()\n",
    "world.map[0].neat='Dirty'\n",
    "world.map[1].neat='Clean'\n",
    "world.agents = [GoalAgent(0, world)]\n",
    "world.living()"
   ]
  },
  {
   "cell_type": "code",
   "execution_count": null,
   "metadata": {
    "pycharm": {
     "is_executing": true,
     "name": "#%%\n"
    }
   },
   "outputs": [],
   "source": [
    "# 基于效用的Agent\n",
    "class UtilityModel(Model):\n",
    "    def act(self, loc, action):\n",
    "        if action == 'Left':\n",
    "            loc = (loc - 1) % len(self.map)\n",
    "        elif action == 'Right':\n",
    "            loc = (loc + 1) % len(self.map)\n",
    "        elif action == 'Suck':\n",
    "            self.map[loc].neat = 'Clean'\n",
    "\n",
    "    def cal_utility(self, action):\n",
    "        score = 0\n",
    "        if self.map[0].neat == 'Clean':\n",
    "            score+=2\n",
    "        if self.map[1].neat == 'Clean':\n",
    "            score+=2\n",
    "        if action in ['Right','Left']:\n",
    "            score -=1\n",
    "        if action in ['Suck']:\n",
    "            score -=0.5\n",
    "        return score\n",
    "\n",
    "class UtilityAgent(Agent):\n",
    "    def __init__(self, loc, world):\n",
    "        super().__init__(loc)\n",
    "        self.model = UtilityModel(world)\n",
    "\n",
    "    def act(self, world):\n",
    "        self.action = 'NoOp'\n",
    "        best_score = -10\n",
    "        for action in ['Left', 'Right', 'Suck', 'NoOp']:\n",
    "            self.model.resume()\n",
    "            before_action_score = self.model.cal_utility('NoOp')\n",
    "            self.model.act(self.loc, action)\n",
    "            after_action_score = self.model.cal_utility(action)\n",
    "            print(action, before_action_score, after_action_score)\n",
    "            if after_action_score - before_action_score > best_score:\n",
    "                best_score = after_action_score - before_action_score\n",
    "                self.action = action\n",
    "        return self.action\n",
    "\n",
    "    def __repr__(self):\n",
    "        my_dict = copy.copy(self.__dict__)\n",
    "        my_dict.pop('model')\n",
    "        return json.dumps(my_dict)\n",
    "\n",
    "\n",
    "world = World()\n",
    "world.agents = [UtilityAgent(0, world)]\n",
    "world.living()"
   ]
  },
  {
   "cell_type": "code",
   "execution_count": 10,
   "metadata": {
    "pycharm": {
     "name": "#%%\n"
    }
   },
   "outputs": [
    {
     "name": "stdout",
     "output_type": "stream",
     "text": [
      "Left 2 1\n",
      "Right 2 1\n",
      "Suck 2 1.5\n",
      "NoOp 2 2\n",
      "tick:   ============1===========\n",
      "map:    [{\"name\": \"A\", \"neat\": \"Clean\"}, {\"name\": \"B\", \"neat\": \"Dirty\"}]\n",
      "agents: [{\"name\": \"LearnAgent\", \"loc\": 0, \"action\": \"NoOp\", \"rules\": {\"Clean-Dirty-A\": \"NoOp\"}}]\n",
      "Left 0 -1\n",
      "Right 0 -1\n",
      "Suck 0 1.5\n",
      "NoOp 0 0\n",
      "tick:   ============2===========\n",
      "map:    [{\"name\": \"A\", \"neat\": \"Clean\"}, {\"name\": \"B\", \"neat\": \"Dirty\"}]\n",
      "agents: [{\"name\": \"LearnAgent\", \"loc\": 0, \"action\": \"Suck\", \"rules\": {\"Clean-Dirty-A\": \"NoOp\", \"Dirty-Dirty-A\": \"Suck\"}}]\n",
      "tick:   ============3===========\n",
      "map:    [{\"name\": \"A\", \"neat\": \"Clean\"}, {\"name\": \"B\", \"neat\": \"Dirty\"}]\n",
      "agents: [{\"name\": \"LearnAgent\", \"loc\": 0, \"action\": \"NoOp\", \"rules\": {\"Clean-Dirty-A\": \"NoOp\", \"Dirty-Dirty-A\": \"Suck\"}}]\n",
      "tick:   ============4===========\n",
      "map:    [{\"name\": \"A\", \"neat\": \"Clean\"}, {\"name\": \"B\", \"neat\": \"Dirty\"}]\n",
      "agents: [{\"name\": \"LearnAgent\", \"loc\": 0, \"action\": \"Suck\", \"rules\": {\"Clean-Dirty-A\": \"NoOp\", \"Dirty-Dirty-A\": \"Suck\"}}]\n",
      "tick:   ============5===========\n",
      "map:    [{\"name\": \"A\", \"neat\": \"Clean\"}, {\"name\": \"B\", \"neat\": \"Dirty\"}]\n",
      "agents: [{\"name\": \"LearnAgent\", \"loc\": 0, \"action\": \"Suck\", \"rules\": {\"Clean-Dirty-A\": \"NoOp\", \"Dirty-Dirty-A\": \"Suck\"}}]\n",
      "tick:   ============6===========\n",
      "map:    [{\"name\": \"A\", \"neat\": \"Clean\"}, {\"name\": \"B\", \"neat\": \"Dirty\"}]\n",
      "agents: [{\"name\": \"LearnAgent\", \"loc\": 0, \"action\": \"NoOp\", \"rules\": {\"Clean-Dirty-A\": \"NoOp\", \"Dirty-Dirty-A\": \"Suck\"}}]\n",
      "tick:   ============7===========\n",
      "map:    [{\"name\": \"A\", \"neat\": \"Clean\"}, {\"name\": \"B\", \"neat\": \"Dirty\"}]\n",
      "agents: [{\"name\": \"LearnAgent\", \"loc\": 0, \"action\": \"NoOp\", \"rules\": {\"Clean-Dirty-A\": \"NoOp\", \"Dirty-Dirty-A\": \"Suck\"}}]\n",
      "tick:   ============8===========\n",
      "map:    [{\"name\": \"A\", \"neat\": \"Clean\"}, {\"name\": \"B\", \"neat\": \"Dirty\"}]\n",
      "agents: [{\"name\": \"LearnAgent\", \"loc\": 0, \"action\": \"NoOp\", \"rules\": {\"Clean-Dirty-A\": \"NoOp\", \"Dirty-Dirty-A\": \"Suck\"}}]\n"
     ]
    },
    {
     "ename": "KeyboardInterrupt",
     "evalue": "",
     "output_type": "error",
     "traceback": [
      "\u001b[1;31m---------------------------------------------------------------------------\u001b[0m",
      "\u001b[1;31mKeyboardInterrupt\u001b[0m                         Traceback (most recent call last)",
      "Input \u001b[1;32mIn [10]\u001b[0m, in \u001b[0;36m<cell line: 61>\u001b[1;34m()\u001b[0m\n\u001b[0;32m     59\u001b[0m world \u001b[38;5;241m=\u001b[39m World()\n\u001b[0;32m     60\u001b[0m world\u001b[38;5;241m.\u001b[39magents \u001b[38;5;241m=\u001b[39m [LearnAgent(\u001b[38;5;241m0\u001b[39m, world)]\n\u001b[1;32m---> 61\u001b[0m \u001b[43mworld\u001b[49m\u001b[38;5;241;43m.\u001b[39;49m\u001b[43mliving\u001b[49m\u001b[43m(\u001b[49m\u001b[43m)\u001b[49m\n",
      "Input \u001b[1;32mIn [1]\u001b[0m, in \u001b[0;36mWorld.living\u001b[1;34m(self)\u001b[0m\n\u001b[0;32m     73\u001b[0m world\u001b[38;5;241m.\u001b[39mact()\n\u001b[0;32m     74\u001b[0m \u001b[38;5;28mprint\u001b[39m(world)\n\u001b[1;32m---> 75\u001b[0m \u001b[43mtime\u001b[49m\u001b[38;5;241;43m.\u001b[39;49m\u001b[43msleep\u001b[49m\u001b[43m(\u001b[49m\u001b[38;5;241;43m2\u001b[39;49m\u001b[43m)\u001b[49m\n",
      "\u001b[1;31mKeyboardInterrupt\u001b[0m: "
     ]
    }
   ],
   "source": [
    "# 基于学习的Agent\n",
    "class LearnModel(Model):\n",
    "    def act(self, loc, action):\n",
    "        if action == 'Left':\n",
    "            loc = (loc - 1) % len(self.map)\n",
    "        elif action == 'Right':\n",
    "            loc = (loc + 1) % len(self.map)\n",
    "        elif action == 'Suck':\n",
    "            self.map[loc].neat = 'Clean'\n",
    "\n",
    "    def cal_utility(self, action):\n",
    "        score = 0\n",
    "        if self.map[0].neat == 'Clean':\n",
    "            score+=2\n",
    "        if self.map[1].neat == 'Clean':\n",
    "            score+=2\n",
    "        if action in ['Right','Left']:\n",
    "            score -=1\n",
    "        if action in ['Suck']:\n",
    "            score -=0.5\n",
    "        return score\n",
    "\n",
    "class LearnAgent(Agent):\n",
    "    def __init__(self, loc, world):\n",
    "        super().__init__(loc)\n",
    "        self.model = LearnModel(world)\n",
    "        self.rules = dict()\n",
    "\n",
    "    def act(self, world):\n",
    "        # 如果当前情况在rules中，直接响应\n",
    "        now_scene = \"-\".join([\n",
    "            world.map[0].neat,\n",
    "            world.map[1].neat,\n",
    "            world.map[self.loc].name\n",
    "        ])\n",
    "        if now_scene in self.rules:\n",
    "            self.action = self.rules[now_scene]\n",
    "        else:\n",
    "            self.action = 'NoOp'\n",
    "            best_score = -10\n",
    "            for action in ['Left', 'Right', 'Suck', 'NoOp']:\n",
    "                self.model.resume()\n",
    "                before_action_score = self.model.cal_utility('NoOp')\n",
    "                self.model.act(self.loc, action)\n",
    "                after_action_score = self.model.cal_utility(action)\n",
    "                print(action, before_action_score, after_action_score)\n",
    "                if after_action_score - before_action_score > best_score:\n",
    "                    best_score = after_action_score - before_action_score\n",
    "                    self.action = action\n",
    "            self.rules[now_scene] = self.action\n",
    "        return self.action\n",
    "\n",
    "    def __repr__(self):\n",
    "        my_dict = copy.copy(self.__dict__)\n",
    "        my_dict.pop('model')\n",
    "        return json.dumps(my_dict)\n",
    "\n",
    "\n",
    "world = World()\n",
    "world.agents = [LearnAgent(0, world)]\n",
    "world.living()"
   ]
  }
 ],
 "metadata": {
  "kernelspec": {
   "display_name": "Python 3 (ipykernel)",
   "language": "python",
   "name": "python3"
  },
  "language_info": {
   "codemirror_mode": {
    "name": "ipython",
    "version": 3
   },
   "file_extension": ".py",
   "mimetype": "text/x-python",
   "name": "python",
   "nbconvert_exporter": "python",
   "pygments_lexer": "ipython3",
   "version": "3.10.6"
  }
 },
 "nbformat": 4,
 "nbformat_minor": 1
}
